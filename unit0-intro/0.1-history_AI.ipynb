{
 "cells": [
  {
   "cell_type": "code",
   "execution_count": 1,
   "metadata": {},
   "outputs": [
    {
     "data": {
      "text/html": [
       "\n",
       "        <iframe\n",
       "            width=\"100%\"\n",
       "            height=\"650\"\n",
       "            src=\"https://cdn.knightlab.com/libs/timeline3/latest/embed/index.html?source=1ZsOUXBNP7I5U_1k5uDjkYUNgvE4R74b6k4soCt1OnsU&font=Default&lang=it&initial_zoom=2&height=650\"\n",
       "            frameborder=\"0\"\n",
       "            allowfullscreen\n",
       "            \n",
       "        ></iframe>\n",
       "        "
      ],
      "text/plain": [
       "<IPython.lib.display.IFrame at 0x105da33d0>"
      ]
     },
     "execution_count": 1,
     "metadata": {},
     "output_type": "execute_result"
    }
   ],
   "source": [
    "from IPython.display import IFrame\n",
    "\n",
    "# URL dell'iframe\n",
    "url = 'https://cdn.knightlab.com/libs/timeline3/latest/embed/index.html?source=1ZsOUXBNP7I5U_1k5uDjkYUNgvE4R74b6k4soCt1OnsU&font=Default&lang=it&initial_zoom=2&height=650'\n",
    "\n",
    "# Visualizzare l'iframe\n",
    "IFrame(src=url, width='100%', height=650)"
   ]
  },
  {
   "cell_type": "code",
   "execution_count": null,
   "metadata": {},
   "outputs": [],
   "source": []
  }
 ],
 "metadata": {
  "kernelspec": {
   "display_name": "IA_corsi",
   "language": "python",
   "name": "python3"
  },
  "language_info": {
   "codemirror_mode": {
    "name": "ipython",
    "version": 3
   },
   "file_extension": ".py",
   "mimetype": "text/x-python",
   "name": "python",
   "nbconvert_exporter": "python",
   "pygments_lexer": "ipython3",
   "version": "3.10.13"
  }
 },
 "nbformat": 4,
 "nbformat_minor": 2
}
