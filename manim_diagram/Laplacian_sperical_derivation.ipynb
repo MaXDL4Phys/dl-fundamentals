{
 "cells": [
  {
   "cell_type": "code",
   "execution_count": 1,
   "metadata": {},
   "outputs": [],
   "source": [
    "from manim import *"
   ]
  },
  {
   "cell_type": "code",
   "execution_count": 2,
   "metadata": {},
   "outputs": [
    {
     "data": {
      "text/html": [
       "<pre style=\"white-space:pre;overflow-x:auto;line-height:normal;font-family:Menlo,'DejaVu Sans Mono',consolas,'Courier New',monospace\">Manim Community <span style=\"color: #008000; text-decoration-color: #008000\">v0.18.1</span>\n",
       "\n",
       "</pre>\n"
      ],
      "text/plain": [
       "Manim Community \u001b[32mv0.\u001b[0m\u001b[32m18.1\u001b[0m\n",
       "\n"
      ]
     },
     "metadata": {},
     "output_type": "display_data"
    },
    {
     "name": "stderr",
     "output_type": "stream",
     "text": [
      "                                                                                                                                                                                                                                                                                                                                                                                                             \r"
     ]
    },
    {
     "data": {
      "text/html": [
       "<video src=\"media/jupyter/DeriveLaplacianSpherical@2024-08-21@11-13-57.mp4\" controls autoplay loop style=\"max-width: 60%;\"  >\n",
       "      Your browser does not support the <code>video</code> element.\n",
       "    </video>"
      ],
      "text/plain": [
       "<IPython.core.display.Video object>"
      ]
     },
     "metadata": {},
     "output_type": "display_data"
    }
   ],
   "source": [
    "\n",
    "%%manim -v WARNING -qm DeriveLaplacianSpherical\n",
    "\n",
    "\n",
    "class DeriveLaplacianSpherical(Scene):\n",
    "    def construct(self):\n",
    "        # Title\n",
    "        title = Text(\"Deriving the Laplacian in Spherical Coordinates\", font_size=36, color=YELLOW)\n",
    "        self.play(Write(title))\n",
    "        self.wait(2)\n",
    "        self.play(FadeOut(title))\n",
    "\n",
    "        # Cartesian Laplacian\n",
    "        cartesian_laplacian = MathTex(\n",
    "            r\"\\nabla^2 = \\frac{\\partial^2}{\\partial x^2} + \\frac{\\partial^2}{\\partial y^2} + \\frac{\\partial^2}{\\partial z^2}\",\n",
    "            font_size=36\n",
    "        )\n",
    "        self.play(Write(cartesian_laplacian))\n",
    "        self.wait(2)\n",
    "        \n",
    "        # Transition to spherical coordinates\n",
    "        transition_text = Text(\"Transformation to Spherical Coordinates\", font_size=30, color=BLUE)\n",
    "        self.play(Transform(cartesian_laplacian, transition_text))\n",
    "        self.wait(2)\n",
    "        self.play(FadeOut(cartesian_laplacian))\n",
    "        \n",
    "        # Display spherical coordinates\n",
    "        spherical_coords = MathTex(\n",
    "            r\"x = r \\sin\\theta \\cos\\phi, \\\\ y = r \\sin\\theta \\sin\\phi, \\\\ z = r \\cos\\theta\",\n",
    "            font_size=36\n",
    "        )\n",
    "        self.play(Write(spherical_coords))\n",
    "        self.wait(3)\n",
    "        \n",
    "        # Calculate partial derivatives\n",
    "        partial_derivatives = MathTex(\n",
    "            r\"\\frac{\\partial r}{\\partial x} = \\frac{x}{r}, \\quad \\frac{\\partial r}{\\partial y} = \\frac{y}{r}, \\quad \\frac{\\partial r}{\\partial z} = \\frac{z}{r}\",\n",
    "            font_size=36\n",
    "        )\n",
    "        self.play(Transform(spherical_coords, partial_derivatives))\n",
    "        self.wait(3)\n",
    "\n",
    "        # Derive the Laplacian\n",
    "        laplacian_derivation = MathTex(\n",
    "            r\"\\nabla^2 = \\frac{1}{r^2} \\frac{\\partial}{\\partial r} \\left( r^2 \\frac{\\partial}{\\partial r} \\right) +\"\n",
    "            r\"\\frac{1}{r^2 \\sin\\theta} \\frac{\\partial}{\\partial \\theta} \\left( \\sin\\theta \\frac{\\partial}{\\partial \\theta} \\right) +\"\n",
    "            r\"\\frac{1}{r^2 \\sin^2\\theta} \\frac{\\partial^2}{\\partial \\phi^2}\",\n",
    "            font_size=36\n",
    "        )\n",
    "        self.play(Transform(partial_derivatives, laplacian_derivation))\n",
    "        self.wait(4)\n",
    "        \n",
    "        # Final Text\n",
    "        final_text = Text(\"This is the Laplacian in Spherical Coordinates!\", font_size=30, color=GREEN)\n",
    "        self.play(Transform(laplacian_derivation, final_text))\n",
    "        self.wait(3)\n",
    "        self.play(FadeOut(final_text))"
   ]
  },
  {
   "cell_type": "code",
   "execution_count": 4,
   "metadata": {},
   "outputs": [
    {
     "data": {
      "text/html": [
       "<pre style=\"white-space:pre;overflow-x:auto;line-height:normal;font-family:Menlo,'DejaVu Sans Mono',consolas,'Courier New',monospace\">Manim Community <span style=\"color: #008000; text-decoration-color: #008000\">v0.18.1</span>\n",
       "\n",
       "</pre>\n"
      ],
      "text/plain": [
       "Manim Community \u001b[32mv0.\u001b[0m\u001b[32m18.1\u001b[0m\n",
       "\n"
      ]
     },
     "metadata": {},
     "output_type": "display_data"
    },
    {
     "name": "stderr",
     "output_type": "stream",
     "text": [
      "                                                                                                                                                                                                                                                                                                                                                                                                            \r"
     ]
    },
    {
     "data": {
      "text/html": [
       "<video src=\"media/jupyter/DeriveLaplacianSpherical@2024-08-21@12-59-12.mp4\" controls autoplay loop style=\"max-width: 60%;\"  >\n",
       "      Your browser does not support the <code>video</code> element.\n",
       "    </video>"
      ],
      "text/plain": [
       "<IPython.core.display.Video object>"
      ]
     },
     "metadata": {},
     "output_type": "display_data"
    }
   ],
   "source": [
    "%%manim -v WARNING -qm DeriveLaplacianSpherical\n",
    "\n",
    "class DeriveLaplacianSpherical(Scene):\n",
    "    def construct(self):\n",
    "        # Step 1: Display the Cartesian Laplacian\n",
    "        step1_title = Text(\"Step 1: Cartesian Laplacian\", font_size=36, color=YELLOW)\n",
    "        cartesian_laplacian = MathTex(\n",
    "            r\"\\nabla^2 = \\frac{\\partial^2}{\\partial x^2} + \\frac{\\partial^2}{\\partial y^2} + \\frac{\\partial^2}{\\partial z^2}\",\n",
    "            font_size=36\n",
    "        )\n",
    "        self.play(Write(step1_title))\n",
    "        self.wait(2)\n",
    "        self.play(Write(cartesian_laplacian))\n",
    "        self.wait(3)\n",
    "        self.play(FadeOut(step1_title), cartesian_laplacian.animate.to_edge(UP))\n",
    "        \n",
    "        # Step 2: Introduce the transformation to spherical coordinates\n",
    "        step2_title = Text(\"Step 2: Spherical Coordinates Transformation\", font_size=36, color=YELLOW)\n",
    "        spherical_transform = MathTex(\n",
    "            r\"x = r \\sin\\theta \\cos\\phi\", r\"y = r \\sin\\theta \\sin\\phi\", r\"z = r \\cos\\theta\",\n",
    "            font_size=36\n",
    "        ).arrange(DOWN, aligned_edge=LEFT)\n",
    "        \n",
    "        self.play(Write(step2_title))\n",
    "        self.wait(2)\n",
    "        self.play(Write(spherical_transform))\n",
    "        self.wait(3)\n",
    "        self.play(FadeOut(step2_title), spherical_transform.animate.to_edge(UP))\n",
    "        \n",
    "        # Step 3: Show partial derivatives of r with respect to x, y, z\n",
    "        step3_title = Text(\"Step 3: Compute Partial Derivatives of r\", font_size=36, color=YELLOW)\n",
    "        partial_derivatives = MathTex(\n",
    "            r\"\\frac{\\partial r}{\\partial x} = \\frac{x}{r}, \\quad \\frac{\\partial r}{\\partial y} = \\frac{y}{r}, \\quad \\frac{\\partial r}{\\partial z} = \\frac{z}{r}\",\n",
    "            font_size=36\n",
    "        ).arrange(DOWN)\n",
    "        \n",
    "        self.play(Write(step3_title))\n",
    "        self.wait(2)\n",
    "        self.play(Write(partial_derivatives))\n",
    "        self.wait(4)\n",
    "        self.play(FadeOut(step3_title), partial_derivatives.animate.to_edge(UP))\n",
    "\n",
    "        # Step 4: Substitute into the Cartesian Laplacian\n",
    "        step4_title = Text(\"Step 4: Substitute into Cartesian Laplacian\", font_size=36, color=YELLOW)\n",
    "        substitution = MathTex(\n",
    "            r\"\\frac{\\partial^2}{\\partial x^2} + \\frac{\\partial^2}{\\partial y^2} + \\frac{\\partial^2}{\\partial z^2}\",\n",
    "            r\"\\rightarrow\",\n",
    "            r\"\\text{Laplacian in } r, \\theta, \\phi\",\n",
    "            font_size=36\n",
    "        ).arrange(DOWN)\n",
    "        \n",
    "        self.play(Write(step4_title))\n",
    "        self.wait(2)\n",
    "        self.play(Write(substitution))\n",
    "        self.wait(4)\n",
    "        self.play(FadeOut(step4_title), substitution.animate.to_edge(UP))\n",
    "        \n",
    "        # Step 5: Derive the radial part of the Laplacian\n",
    "        step5_title = Text(\"Step 5: Derive the Radial Component\", font_size=36, color=YELLOW)\n",
    "        radial_component = MathTex(\n",
    "            r\"\\frac{1}{r^2} \\frac{\\partial}{\\partial r} \\left( r^2 \\frac{\\partial f}{\\partial r} \\right)\",\n",
    "            font_size=36\n",
    "        )\n",
    "        \n",
    "        self.play(Write(step5_title))\n",
    "        self.wait(2)\n",
    "        self.play(Write(radial_component))\n",
    "        self.wait(4)\n",
    "        self.play(FadeOut(step5_title), radial_component.animate.to_edge(UP))\n",
    "        \n",
    "        # Step 6: Derive the angular components\n",
    "        step6_title = Text(\"Step 6: Derive the Angular Components\", font_size=36, color=YELLOW)\n",
    "        angular_component_theta = MathTex(\n",
    "            r\"\\frac{1}{r^2 \\sin\\theta} \\frac{\\partial}{\\partial \\theta} \\left( \\sin\\theta \\frac{\\partial f}{\\partial \\theta} \\right)\",\n",
    "            font_size=36\n",
    "        )\n",
    "        angular_component_phi = MathTex(\n",
    "            r\"\\frac{1}{r^2 \\sin^2\\theta} \\frac{\\partial^2 f}{\\partial \\phi^2}\",\n",
    "            font_size=36\n",
    "        )\n",
    "        \n",
    "        self.play(Write(step6_title))\n",
    "        self.wait(2)\n",
    "        self.play(Write(angular_component_theta))\n",
    "        self.wait(3)\n",
    "        self.play(Write(angular_component_phi))\n",
    "        self.wait(4)\n",
    "        self.play(FadeOut(step6_title), angular_component_theta.animate.to_edge(UP), angular_component_phi.animate.to_edge(DOWN))\n",
    "        \n",
    "        # Step 7: Present the final form of the Laplacian\n",
    "        step7_title = Text(\"Step 7: Final Form of Laplacian in Spherical Coordinates\", font_size=36, color=YELLOW)\n",
    "        final_laplacian = MathTex(\n",
    "            r\"\\nabla^2 = \\frac{1}{r^2} \\frac{\\partial}{\\partial r} \\left( r^2 \\frac{\\partial}{\\partial r} \\right) +\"\n",
    "            r\" \\frac{1}{r^2 \\sin\\theta} \\frac{\\partial}{\\partial \\theta} \\left( \\sin\\theta \\frac{\\partial}{\\partial \\theta} \\right) +\"\n",
    "            r\" \\frac{1}{r^2 \\sin^2\\theta} \\frac{\\partial^2}{\\partial \\phi^2}\",\n",
    "            font_size=36\n",
    "        )\n",
    "        \n",
    "        self.play(Write(step7_title))\n",
    "        self.wait(2)\n",
    "        self.play(Write(final_laplacian))\n",
    "        self.wait(4)\n",
    "        self.play(FadeOut(step7_title), FadeOut(final_laplacian))\n",
    "        \n",
    "        # Conclusion\n",
    "        conclusion = Text(\"This completes the derivation of the Laplacian in spherical coordinates!\", font_size=36, color=GREEN)\n",
    "        self.play(Write(conclusion))\n",
    "        self.wait(3)\n",
    "        self.play(FadeOut(conclusion))"
   ]
  },
  {
   "cell_type": "code",
   "execution_count": null,
   "metadata": {},
   "outputs": [],
   "source": []
  }
 ],
 "metadata": {
  "kernelspec": {
   "display_name": "IA_corsi",
   "language": "python",
   "name": "python3"
  },
  "language_info": {
   "codemirror_mode": {
    "name": "ipython",
    "version": 3
   },
   "file_extension": ".py",
   "mimetype": "text/x-python",
   "name": "python",
   "nbconvert_exporter": "python",
   "pygments_lexer": "ipython3",
   "version": "3.10.13"
  }
 },
 "nbformat": 4,
 "nbformat_minor": 2
}
